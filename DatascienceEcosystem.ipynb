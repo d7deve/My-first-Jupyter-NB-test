{
 "cells": [
  {
   "cell_type": "markdown",
   "id": "e4d5282d-3223-4dd5-8260-3994468818f2",
   "metadata": {},
   "source": [
    "# Data Science Tools and Ecosystem"
   ]
  },
  {
   "cell_type": "markdown",
   "id": "1ffb867d-ed13-432d-a071-82160a30fbc7",
   "metadata": {},
   "source": [
    "## In this notebook, Data science Tools and Ecosystem are summarized."
   ]
  },
  {
   "cell_type": "markdown",
   "id": "55d6faa3-63d9-4c75-9c3c-859caf69cc03",
   "metadata": {},
   "source": [
    "Some od the popular languages that Data Scientists use are:\n",
    "1. Python\n",
    "2. SQL\n",
    "3. R"
   ]
  },
  {
   "cell_type": "markdown",
   "id": "c106b2b6-1648-40c0-bcbe-bd5c35a83468",
   "metadata": {},
   "source": [
    "Some of the commonly used libraries used by Data Scientists include:\n",
    "1. Jupyter\n",
    "2. Panda\n",
    "3. R studio\n",
    "4. Numpy"
   ]
  },
  {
   "cell_type": "markdown",
   "id": "e408cf8e-d196-4883-9db3-aee09d8ff023",
   "metadata": {},
   "source": [
    "|Data Science Tools|\n",
    "|---|\n",
    "|Anaconda|\n",
    "|Apache|\n",
    "|Git Hub|"
   ]
  },
  {
   "cell_type": "markdown",
   "id": "471ac981-3419-4979-b171-c62a9107e584",
   "metadata": {},
   "source": [
    "### Below are a few examples of evaluating arithmetic expression in Python\n"
   ]
  },
  {
   "cell_type": "markdown",
   "id": "a9af3866-1e5a-4ad2-b51d-1c0bd40f9aee",
   "metadata": {},
   "source": [
    "This a simple arithmetic expression to multiplu then add integers."
   ]
  },
  {
   "cell_type": "code",
   "execution_count": 4,
   "id": "9e1d6427-d98a-4f57-a7fe-082d55563b5e",
   "metadata": {},
   "outputs": [
    {
     "data": {
      "text/plain": [
       "17"
      ]
     },
     "execution_count": 4,
     "metadata": {},
     "output_type": "execute_result"
    }
   ],
   "source": [
    "(3*4)+5"
   ]
  },
  {
   "cell_type": "code",
   "execution_count": null,
   "id": "8defbc39-6275-4f80-9024-f895b54d1e9e",
   "metadata": {},
   "outputs": [],
   "source": []
  },
  {
   "cell_type": "markdown",
   "id": "7eb7c88c-0500-44fc-8a8a-2080095066a2",
   "metadata": {},
   "source": [
    "This will convert 200 minutes to hours by dividing by 60"
   ]
  },
  {
   "cell_type": "code",
   "execution_count": 7,
   "id": "6c40fa35-ceb8-447e-ae2b-8650b4ad5ec4",
   "metadata": {},
   "outputs": [
    {
     "data": {
      "text/plain": [
       "3.3333333333333335"
      ]
     },
     "execution_count": 7,
     "metadata": {},
     "output_type": "execute_result"
    }
   ],
   "source": [
    "200/60"
   ]
  },
  {
   "cell_type": "code",
   "execution_count": null,
   "id": "3f95bea6-9c86-4cda-aa58-acdf88e3a4b3",
   "metadata": {},
   "outputs": [],
   "source": []
  },
  {
   "cell_type": "markdown",
   "id": "bcaffff7-fc21-4f01-973e-d48ba21bb667",
   "metadata": {},
   "source": [
    "# Objectives"
   ]
  },
  {
   "cell_type": "markdown",
   "id": "b723536d-0d8e-42b9-9259-bc5509739135",
   "metadata": {},
   "source": [
    "### Best Data Science Languages\n",
    "- Python\n",
    "- R\n",
    "- SQL\n",
    "- Javascript\n",
    "- C++\n",
    "- Scala\n",
    "- Julia\n"
   ]
  },
  {
   "cell_type": "markdown",
   "id": "749c0193-0624-4d30-b9c4-9b6cb086dc40",
   "metadata": {},
   "source": [
    "## Author\n",
    "Devendran Eazhumalai"
   ]
  },
  {
   "cell_type": "code",
   "execution_count": null,
   "id": "e591f70a-704c-4d09-888e-50c1e570d361",
   "metadata": {},
   "outputs": [],
   "source": []
  }
 ],
 "metadata": {
  "kernelspec": {
   "display_name": "Python 3 (ipykernel)",
   "language": "python",
   "name": "python3"
  },
  "language_info": {
   "codemirror_mode": {
    "name": "ipython",
    "version": 3
   },
   "file_extension": ".py",
   "mimetype": "text/x-python",
   "name": "python",
   "nbconvert_exporter": "python",
   "pygments_lexer": "ipython3",
   "version": "3.11.7"
  }
 },
 "nbformat": 4,
 "nbformat_minor": 5
}
